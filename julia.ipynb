{
 "cells": [
  {
   "cell_type": "markdown",
   "metadata": {},
   "source": [
    "### Basic math operations"
   ]
  },
  {
   "cell_type": "code",
   "execution_count": 6,
   "metadata": {},
   "outputs": [
    {
     "data": {
      "text/plain": [
       "9"
      ]
     },
     "execution_count": 6,
     "metadata": {},
     "output_type": "execute_result"
    }
   ],
   "source": [
    "4+5"
   ]
  },
  {
   "cell_type": "code",
   "execution_count": 7,
   "metadata": {},
   "outputs": [
    {
     "data": {
      "text/plain": [
       "81"
      ]
     },
     "execution_count": 7,
     "metadata": {},
     "output_type": "execute_result"
    }
   ],
   "source": [
    "3^4"
   ]
  },
  {
   "cell_type": "code",
   "execution_count": 8,
   "metadata": {},
   "outputs": [
    {
     "data": {
      "text/plain": [
       "45.5"
      ]
     },
     "execution_count": 8,
     "metadata": {},
     "output_type": "execute_result"
    }
   ],
   "source": [
    "91/2"
   ]
  },
  {
   "cell_type": "markdown",
   "metadata": {},
   "source": [
    "### Vector ops"
   ]
  },
  {
   "cell_type": "code",
   "execution_count": 9,
   "metadata": {},
   "outputs": [
    {
     "data": {
      "text/plain": [
       "3-element Array{Int64,1}:\n",
       " 10\n",
       " 20\n",
       " 30"
      ]
     },
     "execution_count": 9,
     "metadata": {},
     "output_type": "execute_result"
    }
   ],
   "source": [
    "# Create a row vector\n",
    "# No need to display 'A' explicitly!\n",
    "A = [10, 20, 30]"
   ]
  },
  {
   "cell_type": "code",
   "execution_count": 10,
   "metadata": {},
   "outputs": [
    {
     "data": {
      "text/plain": [
       "10"
      ]
     },
     "execution_count": 10,
     "metadata": {},
     "output_type": "execute_result"
    }
   ],
   "source": [
    "# Access the first element\n",
    "A[1]"
   ]
  },
  {
   "cell_type": "code",
   "execution_count": 11,
   "metadata": {},
   "outputs": [
    {
     "ename": "BoundsError",
     "evalue": "BoundsError: attempt to access 3-element Array{Int64,1} at index [0]",
     "output_type": "error",
     "traceback": [
      "BoundsError: attempt to access 3-element Array{Int64,1} at index [0]",
      "",
      "Stacktrace:",
      " [1] getindex(::Array{Int64,1}, ::Int64) at ./array.jl:728",
      " [2] top-level scope at In[11]:1"
     ]
    }
   ],
   "source": [
    "A[0] # Julia is 1-indexed"
   ]
  },
  {
   "cell_type": "code",
   "execution_count": 12,
   "metadata": {},
   "outputs": [
    {
     "data": {
      "text/plain": [
       "3-element Array{Int64,1}:\n",
       " 10\n",
       " 20\n",
       " 30"
      ]
     },
     "execution_count": 12,
     "metadata": {},
     "output_type": "execute_result"
    }
   ],
   "source": [
    "# Create a column vector\n",
    "A = [10; 20; 30]"
   ]
  },
  {
   "cell_type": "code",
   "execution_count": 13,
   "metadata": {},
   "outputs": [
    {
     "data": {
      "text/plain": [
       "199"
      ]
     },
     "execution_count": 13,
     "metadata": {},
     "output_type": "execute_result"
    }
   ],
   "source": [
    "A[1] = 199 # change one of 'em"
   ]
  },
  {
   "cell_type": "code",
   "execution_count": 14,
   "metadata": {},
   "outputs": [
    {
     "data": {
      "text/plain": [
       "3-element Array{Int64,1}:\n",
       " 199\n",
       "  20\n",
       "  30"
      ]
     },
     "execution_count": 14,
     "metadata": {},
     "output_type": "execute_result"
    }
   ],
   "source": [
    "A"
   ]
  },
  {
   "cell_type": "markdown",
   "metadata": {},
   "source": [
    "### Matrix ops"
   ]
  },
  {
   "cell_type": "code",
   "execution_count": 15,
   "metadata": {},
   "outputs": [
    {
     "data": {
      "text/plain": [
       "3×3 Array{Int64,2}:\n",
       " 1  2  3\n",
       " 4  5  6\n",
       " 7  8  9"
      ]
     },
     "execution_count": 15,
     "metadata": {},
     "output_type": "execute_result"
    }
   ],
   "source": [
    "M = [1 2 3; 4 5 6; 7 8 9]"
   ]
  },
  {
   "cell_type": "code",
   "execution_count": 16,
   "metadata": {},
   "outputs": [
    {
     "data": {
      "text/plain": [
       "2"
      ]
     },
     "execution_count": 16,
     "metadata": {},
     "output_type": "execute_result"
    }
   ],
   "source": [
    "M[1, 2]"
   ]
  },
  {
   "cell_type": "code",
   "execution_count": 17,
   "metadata": {},
   "outputs": [
    {
     "data": {
      "text/plain": [
       "3×3 LinearAlgebra.Adjoint{Int64,Array{Int64,2}}:\n",
       " 1  4  7\n",
       " 2  5  8\n",
       " 3  6  9"
      ]
     },
     "execution_count": 17,
     "metadata": {},
     "output_type": "execute_result"
    }
   ],
   "source": [
    "# transpose it\n",
    "M'"
   ]
  },
  {
   "cell_type": "code",
   "execution_count": 18,
   "metadata": {},
   "outputs": [
    {
     "data": {
      "text/plain": [
       "3×3 Array{Int64,2}:\n",
       " 1  3663  3\n",
       " 4     5  6\n",
       " 7     8  9"
      ]
     },
     "execution_count": 18,
     "metadata": {},
     "output_type": "execute_result"
    }
   ],
   "source": [
    "M[1,2] = 3663\n",
    "M"
   ]
  },
  {
   "cell_type": "code",
   "execution_count": 19,
   "metadata": {},
   "outputs": [
    {
     "data": {
      "text/plain": [
       "3×3 Array{Float64,2}:\n",
       " -0.000136575  -1.49973       0.999863   \n",
       "  0.000273149  -0.000546299   0.000273149\n",
       " -0.000136575   1.16694      -0.666803   "
      ]
     },
     "execution_count": 19,
     "metadata": {},
     "output_type": "execute_result"
    }
   ],
   "source": [
    "# inverse it\n",
    "inv(M)"
   ]
  },
  {
   "cell_type": "code",
   "execution_count": 20,
   "metadata": {},
   "outputs": [
    {
     "ename": "LinearAlgebra.SingularException",
     "evalue": "LinearAlgebra.SingularException(3)",
     "output_type": "error",
     "traceback": [
      "LinearAlgebra.SingularException(3)",
      "",
      "Stacktrace:",
      " [1] checknonsingular at /Users/sabae/buildbot/worker/package_macos64/build/usr/share/julia/stdlib/v1.2/LinearAlgebra/src/factorization.jl:12 [inlined]",
      " [2] #lu!#118(::Bool, ::typeof(LinearAlgebra.lu!), ::Array{Float64,2}, ::Val{true}) at /Users/sabae/buildbot/worker/package_macos64/build/usr/share/julia/stdlib/v1.2/LinearAlgebra/src/lu.jl:41",
      " [3] #lu! at ./none:0 [inlined]",
      " [4] #lu#122 at /Users/sabae/buildbot/worker/package_macos64/build/usr/share/julia/stdlib/v1.2/LinearAlgebra/src/lu.jl:142 [inlined]",
      " [5] lu at /Users/sabae/buildbot/worker/package_macos64/build/usr/share/julia/stdlib/v1.2/LinearAlgebra/src/lu.jl:142 [inlined] (repeats 2 times)",
      " [6] inv(::Array{Int64,2}) at /Users/sabae/buildbot/worker/package_macos64/build/usr/share/julia/stdlib/v1.2/LinearAlgebra/src/dense.jl:730",
      " [7] top-level scope at In[20]:3"
     ]
    }
   ],
   "source": [
    "# inversing can also throw an exception\n",
    "M[1,2] = 2\n",
    "inv(M)"
   ]
  },
  {
   "cell_type": "markdown",
   "metadata": {},
   "source": [
    "### Data frames"
   ]
  },
  {
   "cell_type": "code",
   "execution_count": 2,
   "metadata": {},
   "outputs": [
    {
     "name": "stdout",
     "output_type": "stream",
     "text": [
      "\u001b[32m\u001b[1m  Updating\u001b[22m\u001b[39m registry at `~/.julia/registries/General`\n",
      "\u001b[32m\u001b[1m  Updating\u001b[22m\u001b[39m git-repo `https://github.com/JuliaRegistries/General.git`\n",
      "\u001b[2K\u001b[?25h[1mFetching:\u001b[22m\u001b[39m [========================================>]  100.0 %.0 %\u001b[32m\u001b[1m Resolving\u001b[22m\u001b[39m package versions...\n",
      "\u001b[32m\u001b[1m  Updating\u001b[22m\u001b[39m `~/.julia/environments/v1.2/Project.toml`\n",
      "\u001b[90m [no changes]\u001b[39m\n",
      "\u001b[32m\u001b[1m  Updating\u001b[22m\u001b[39m `~/.julia/environments/v1.2/Manifest.toml`\n",
      "\u001b[90m [no changes]\u001b[39m\n"
     ]
    }
   ],
   "source": [
    "using Pkg\n",
    "Pkg.add(\"DataFrames\") # lol no \".jl\" apparently"
   ]
  },
  {
   "cell_type": "code",
   "execution_count": 3,
   "metadata": {},
   "outputs": [
    {
     "name": "stdout",
     "output_type": "stream",
     "text": [
      "\u001b[32m\u001b[1m Resolving\u001b[22m\u001b[39m package versions...\n",
      "\u001b[32m\u001b[1m Installed\u001b[22m\u001b[39m WeakRefStrings ─ v0.6.1\n",
      "\u001b[32m\u001b[1m Installed\u001b[22m\u001b[39m Tokenize ─────── v0.5.6\n",
      "\u001b[32m\u001b[1m Installed\u001b[22m\u001b[39m FillArrays ───── v0.7.4\n",
      "\u001b[32m\u001b[1m Installed\u001b[22m\u001b[39m CSTParser ────── v1.0.0\n",
      "\u001b[32m\u001b[1m Installed\u001b[22m\u001b[39m FilePathsBase ── v0.6.2\n",
      "\u001b[32m\u001b[1m Installed\u001b[22m\u001b[39m LazyArrays ───── v0.12.3\n",
      "\u001b[32m\u001b[1m Installed\u001b[22m\u001b[39m StaticArrays ─── v0.11.1\n",
      "\u001b[32m\u001b[1m Installed\u001b[22m\u001b[39m MacroTools ───── v0.5.1\n",
      "\u001b[32m\u001b[1m Installed\u001b[22m\u001b[39m CSV ──────────── v0.5.14\n",
      "\u001b[32m\u001b[1m  Updating\u001b[22m\u001b[39m `~/.julia/environments/v1.2/Project.toml`\n",
      " \u001b[90m [336ed68f]\u001b[39m\u001b[92m + CSV v0.5.14\u001b[39m\n",
      "\u001b[32m\u001b[1m  Updating\u001b[22m\u001b[39m `~/.julia/environments/v1.2/Manifest.toml`\n",
      " \u001b[90m [00ebfdb7]\u001b[39m\u001b[92m + CSTParser v1.0.0\u001b[39m\n",
      " \u001b[90m [336ed68f]\u001b[39m\u001b[92m + CSV v0.5.14\u001b[39m\n",
      " \u001b[90m [48062228]\u001b[39m\u001b[92m + FilePathsBase v0.6.2\u001b[39m\n",
      " \u001b[90m [1a297f60]\u001b[39m\u001b[92m + FillArrays v0.7.4\u001b[39m\n",
      " \u001b[90m [5078a376]\u001b[39m\u001b[92m + LazyArrays v0.12.3\u001b[39m\n",
      " \u001b[90m [1914dd2f]\u001b[39m\u001b[92m + MacroTools v0.5.1\u001b[39m\n",
      " \u001b[90m [90137ffa]\u001b[39m\u001b[92m + StaticArrays v0.11.1\u001b[39m\n",
      " \u001b[90m [0796e94c]\u001b[39m\u001b[92m + Tokenize v0.5.6\u001b[39m\n",
      " \u001b[90m [ea10d353]\u001b[39m\u001b[92m + WeakRefStrings v0.6.1\u001b[39m\n",
      " \u001b[90m [9abbd945]\u001b[39m\u001b[92m + Profile \u001b[39m\n"
     ]
    }
   ],
   "source": [
    "# Need to install this too apparently\n",
    "Pkg.add(\"CSV\")"
   ]
  },
  {
   "cell_type": "code",
   "execution_count": 5,
   "metadata": {},
   "outputs": [],
   "source": [
    "using DataFrames\n",
    "using CSV"
   ]
  },
  {
   "cell_type": "code",
   "execution_count": 6,
   "metadata": {},
   "outputs": [
    {
     "data": {
      "text/html": [
       "<table class=\"data-frame\"><thead><tr><th></th><th>Loan_ID</th><th>Gender</th><th>Married</th><th>Dependents</th><th>Education</th><th>Self_Employed</th><th>ApplicantIncome</th></tr><tr><th></th><th>String</th><th>String⍰</th><th>String⍰</th><th>String⍰</th><th>String</th><th>String⍰</th><th>Int64</th></tr></thead><tbody><p>614 rows × 13 columns (omitted printing of 6 columns)</p><tr><th>1</th><td>LP001002</td><td>Male</td><td>No</td><td>0</td><td>Graduate</td><td>No</td><td>5849</td></tr><tr><th>2</th><td>LP001003</td><td>Male</td><td>Yes</td><td>1</td><td>Graduate</td><td>No</td><td>4583</td></tr><tr><th>3</th><td>LP001005</td><td>Male</td><td>Yes</td><td>0</td><td>Graduate</td><td>Yes</td><td>3000</td></tr><tr><th>4</th><td>LP001006</td><td>Male</td><td>Yes</td><td>0</td><td>Not Graduate</td><td>No</td><td>2583</td></tr><tr><th>5</th><td>LP001008</td><td>Male</td><td>No</td><td>0</td><td>Graduate</td><td>No</td><td>6000</td></tr><tr><th>6</th><td>LP001011</td><td>Male</td><td>Yes</td><td>2</td><td>Graduate</td><td>Yes</td><td>5417</td></tr><tr><th>7</th><td>LP001013</td><td>Male</td><td>Yes</td><td>0</td><td>Not Graduate</td><td>No</td><td>2333</td></tr><tr><th>8</th><td>LP001014</td><td>Male</td><td>Yes</td><td>3+</td><td>Graduate</td><td>No</td><td>3036</td></tr><tr><th>9</th><td>LP001018</td><td>Male</td><td>Yes</td><td>2</td><td>Graduate</td><td>No</td><td>4006</td></tr><tr><th>10</th><td>LP001020</td><td>Male</td><td>Yes</td><td>1</td><td>Graduate</td><td>No</td><td>12841</td></tr><tr><th>11</th><td>LP001024</td><td>Male</td><td>Yes</td><td>2</td><td>Graduate</td><td>No</td><td>3200</td></tr><tr><th>12</th><td>LP001027</td><td>Male</td><td>Yes</td><td>2</td><td>Graduate</td><td>missing</td><td>2500</td></tr><tr><th>13</th><td>LP001028</td><td>Male</td><td>Yes</td><td>2</td><td>Graduate</td><td>No</td><td>3073</td></tr><tr><th>14</th><td>LP001029</td><td>Male</td><td>No</td><td>0</td><td>Graduate</td><td>No</td><td>1853</td></tr><tr><th>15</th><td>LP001030</td><td>Male</td><td>Yes</td><td>2</td><td>Graduate</td><td>No</td><td>1299</td></tr><tr><th>16</th><td>LP001032</td><td>Male</td><td>No</td><td>0</td><td>Graduate</td><td>No</td><td>4950</td></tr><tr><th>17</th><td>LP001034</td><td>Male</td><td>No</td><td>1</td><td>Not Graduate</td><td>No</td><td>3596</td></tr><tr><th>18</th><td>LP001036</td><td>Female</td><td>No</td><td>0</td><td>Graduate</td><td>No</td><td>3510</td></tr><tr><th>19</th><td>LP001038</td><td>Male</td><td>Yes</td><td>0</td><td>Not Graduate</td><td>No</td><td>4887</td></tr><tr><th>20</th><td>LP001041</td><td>Male</td><td>Yes</td><td>0</td><td>Graduate</td><td>missing</td><td>2600</td></tr><tr><th>21</th><td>LP001043</td><td>Male</td><td>Yes</td><td>0</td><td>Not Graduate</td><td>No</td><td>7660</td></tr><tr><th>22</th><td>LP001046</td><td>Male</td><td>Yes</td><td>1</td><td>Graduate</td><td>No</td><td>5955</td></tr><tr><th>23</th><td>LP001047</td><td>Male</td><td>Yes</td><td>0</td><td>Not Graduate</td><td>No</td><td>2600</td></tr><tr><th>24</th><td>LP001050</td><td>missing</td><td>Yes</td><td>2</td><td>Not Graduate</td><td>No</td><td>3365</td></tr><tr><th>25</th><td>LP001052</td><td>Male</td><td>Yes</td><td>1</td><td>Graduate</td><td>missing</td><td>3717</td></tr><tr><th>26</th><td>LP001066</td><td>Male</td><td>Yes</td><td>0</td><td>Graduate</td><td>Yes</td><td>9560</td></tr><tr><th>27</th><td>LP001068</td><td>Male</td><td>Yes</td><td>0</td><td>Graduate</td><td>No</td><td>2799</td></tr><tr><th>28</th><td>LP001073</td><td>Male</td><td>Yes</td><td>2</td><td>Not Graduate</td><td>No</td><td>4226</td></tr><tr><th>29</th><td>LP001086</td><td>Male</td><td>No</td><td>0</td><td>Not Graduate</td><td>No</td><td>1442</td></tr><tr><th>30</th><td>LP001087</td><td>Female</td><td>No</td><td>2</td><td>Graduate</td><td>missing</td><td>3750</td></tr><tr><th>&vellip;</th><td>&vellip;</td><td>&vellip;</td><td>&vellip;</td><td>&vellip;</td><td>&vellip;</td><td>&vellip;</td><td>&vellip;</td></tr></tbody></table>"
      ],
      "text/latex": [
       "\\begin{tabular}{r|cccccccc}\n",
       "\t& Loan\\_ID & Gender & Married & Dependents & Education & Self\\_Employed & ApplicantIncome & \\\\\n",
       "\t\\hline\n",
       "\t& String & String⍰ & String⍰ & String⍰ & String & String⍰ & Int64 & \\\\\n",
       "\t\\hline\n",
       "\t1 & LP001002 & Male & No & 0 & Graduate & No & 5849 & $\\dots$ \\\\\n",
       "\t2 & LP001003 & Male & Yes & 1 & Graduate & No & 4583 & $\\dots$ \\\\\n",
       "\t3 & LP001005 & Male & Yes & 0 & Graduate & Yes & 3000 & $\\dots$ \\\\\n",
       "\t4 & LP001006 & Male & Yes & 0 & Not Graduate & No & 2583 & $\\dots$ \\\\\n",
       "\t5 & LP001008 & Male & No & 0 & Graduate & No & 6000 & $\\dots$ \\\\\n",
       "\t6 & LP001011 & Male & Yes & 2 & Graduate & Yes & 5417 & $\\dots$ \\\\\n",
       "\t7 & LP001013 & Male & Yes & 0 & Not Graduate & No & 2333 & $\\dots$ \\\\\n",
       "\t8 & LP001014 & Male & Yes & 3+ & Graduate & No & 3036 & $\\dots$ \\\\\n",
       "\t9 & LP001018 & Male & Yes & 2 & Graduate & No & 4006 & $\\dots$ \\\\\n",
       "\t10 & LP001020 & Male & Yes & 1 & Graduate & No & 12841 & $\\dots$ \\\\\n",
       "\t11 & LP001024 & Male & Yes & 2 & Graduate & No & 3200 & $\\dots$ \\\\\n",
       "\t12 & LP001027 & Male & Yes & 2 & Graduate &  & 2500 & $\\dots$ \\\\\n",
       "\t13 & LP001028 & Male & Yes & 2 & Graduate & No & 3073 & $\\dots$ \\\\\n",
       "\t14 & LP001029 & Male & No & 0 & Graduate & No & 1853 & $\\dots$ \\\\\n",
       "\t15 & LP001030 & Male & Yes & 2 & Graduate & No & 1299 & $\\dots$ \\\\\n",
       "\t16 & LP001032 & Male & No & 0 & Graduate & No & 4950 & $\\dots$ \\\\\n",
       "\t17 & LP001034 & Male & No & 1 & Not Graduate & No & 3596 & $\\dots$ \\\\\n",
       "\t18 & LP001036 & Female & No & 0 & Graduate & No & 3510 & $\\dots$ \\\\\n",
       "\t19 & LP001038 & Male & Yes & 0 & Not Graduate & No & 4887 & $\\dots$ \\\\\n",
       "\t20 & LP001041 & Male & Yes & 0 & Graduate &  & 2600 & $\\dots$ \\\\\n",
       "\t21 & LP001043 & Male & Yes & 0 & Not Graduate & No & 7660 & $\\dots$ \\\\\n",
       "\t22 & LP001046 & Male & Yes & 1 & Graduate & No & 5955 & $\\dots$ \\\\\n",
       "\t23 & LP001047 & Male & Yes & 0 & Not Graduate & No & 2600 & $\\dots$ \\\\\n",
       "\t24 & LP001050 &  & Yes & 2 & Not Graduate & No & 3365 & $\\dots$ \\\\\n",
       "\t25 & LP001052 & Male & Yes & 1 & Graduate &  & 3717 & $\\dots$ \\\\\n",
       "\t26 & LP001066 & Male & Yes & 0 & Graduate & Yes & 9560 & $\\dots$ \\\\\n",
       "\t27 & LP001068 & Male & Yes & 0 & Graduate & No & 2799 & $\\dots$ \\\\\n",
       "\t28 & LP001073 & Male & Yes & 2 & Not Graduate & No & 4226 & $\\dots$ \\\\\n",
       "\t29 & LP001086 & Male & No & 0 & Not Graduate & No & 1442 & $\\dots$ \\\\\n",
       "\t30 & LP001087 & Female & No & 2 & Graduate &  & 3750 & $\\dots$ \\\\\n",
       "\t$\\dots$ & $\\dots$ & $\\dots$ & $\\dots$ & $\\dots$ & $\\dots$ & $\\dots$ & $\\dots$ &  \\\\\n",
       "\\end{tabular}\n"
      ],
      "text/plain": [
       "614×13 DataFrame. Omitted printing of 8 columns\n",
       "│ Row │ Loan_ID  │ Gender  │ Married │ Dependents │ Education    │\n",
       "│     │ \u001b[90mString\u001b[39m   │ \u001b[90mString⍰\u001b[39m │ \u001b[90mString⍰\u001b[39m │ \u001b[90mString⍰\u001b[39m    │ \u001b[90mString\u001b[39m       │\n",
       "├─────┼──────────┼─────────┼─────────┼────────────┼──────────────┤\n",
       "│ 1   │ LP001002 │ Male    │ No      │ 0          │ Graduate     │\n",
       "│ 2   │ LP001003 │ Male    │ Yes     │ 1          │ Graduate     │\n",
       "│ 3   │ LP001005 │ Male    │ Yes     │ 0          │ Graduate     │\n",
       "│ 4   │ LP001006 │ Male    │ Yes     │ 0          │ Not Graduate │\n",
       "│ 5   │ LP001008 │ Male    │ No      │ 0          │ Graduate     │\n",
       "│ 6   │ LP001011 │ Male    │ Yes     │ 2          │ Graduate     │\n",
       "│ 7   │ LP001013 │ Male    │ Yes     │ 0          │ Not Graduate │\n",
       "│ 8   │ LP001014 │ Male    │ Yes     │ 3+         │ Graduate     │\n",
       "│ 9   │ LP001018 │ Male    │ Yes     │ 2          │ Graduate     │\n",
       "│ 10  │ LP001020 │ Male    │ Yes     │ 1          │ Graduate     │\n",
       "⋮\n",
       "│ 604 │ LP002958 │ Male    │ No      │ 0          │ Graduate     │\n",
       "│ 605 │ LP002959 │ Female  │ Yes     │ 1          │ Graduate     │\n",
       "│ 606 │ LP002960 │ Male    │ Yes     │ 0          │ Not Graduate │\n",
       "│ 607 │ LP002961 │ Male    │ Yes     │ 1          │ Graduate     │\n",
       "│ 608 │ LP002964 │ Male    │ Yes     │ 2          │ Not Graduate │\n",
       "│ 609 │ LP002974 │ Male    │ Yes     │ 0          │ Graduate     │\n",
       "│ 610 │ LP002978 │ Female  │ No      │ 0          │ Graduate     │\n",
       "│ 611 │ LP002979 │ Male    │ Yes     │ 3+         │ Graduate     │\n",
       "│ 612 │ LP002983 │ Male    │ Yes     │ 1          │ Graduate     │\n",
       "│ 613 │ LP002984 │ Male    │ Yes     │ 2          │ Graduate     │\n",
       "│ 614 │ LP002990 │ Female  │ No      │ 0          │ Graduate     │"
      ]
     },
     "execution_count": 6,
     "metadata": {},
     "output_type": "execute_result"
    }
   ],
   "source": [
    "train = CSV.read(\"train.csv\")"
   ]
  },
  {
   "cell_type": "code",
   "execution_count": 29,
   "metadata": {},
   "outputs": [
    {
     "data": {
      "text/plain": [
       "(614, 13)"
      ]
     },
     "execution_count": 29,
     "metadata": {},
     "output_type": "execute_result"
    }
   ],
   "source": [
    "# gives back tuple of (num_columns, num_rows)\n",
    "size(train)"
   ]
  },
  {
   "cell_type": "code",
   "execution_count": 30,
   "metadata": {},
   "outputs": [
    {
     "data": {
      "text/plain": [
       "13-element Array{Symbol,1}:\n",
       " :Loan_ID          \n",
       " :Gender           \n",
       " :Married          \n",
       " :Dependents       \n",
       " :Education        \n",
       " :Self_Employed    \n",
       " :ApplicantIncome  \n",
       " :CoapplicantIncome\n",
       " :LoanAmount       \n",
       " :Loan_Amount_Term \n",
       " :Credit_History   \n",
       " :Property_Area    \n",
       " :Loan_Status      "
      ]
     },
     "execution_count": 30,
     "metadata": {},
     "output_type": "execute_result"
    }
   ],
   "source": [
    "# gives back the rows, but their names\n",
    "names(train)"
   ]
  },
  {
   "cell_type": "code",
   "execution_count": 31,
   "metadata": {},
   "outputs": [
    {
     "data": {
      "text/html": [
       "<table class=\"data-frame\"><thead><tr><th></th><th>Loan_ID</th><th>Gender</th><th>Married</th><th>Dependents</th><th>Education</th><th>Self_Employed</th><th>ApplicantIncome</th></tr><tr><th></th><th>String</th><th>String⍰</th><th>String⍰</th><th>String⍰</th><th>String</th><th>String⍰</th><th>Int64</th></tr></thead><tbody><p>10 rows × 13 columns (omitted printing of 6 columns)</p><tr><th>1</th><td>LP001002</td><td>Male</td><td>No</td><td>0</td><td>Graduate</td><td>No</td><td>5849</td></tr><tr><th>2</th><td>LP001003</td><td>Male</td><td>Yes</td><td>1</td><td>Graduate</td><td>No</td><td>4583</td></tr><tr><th>3</th><td>LP001005</td><td>Male</td><td>Yes</td><td>0</td><td>Graduate</td><td>Yes</td><td>3000</td></tr><tr><th>4</th><td>LP001006</td><td>Male</td><td>Yes</td><td>0</td><td>Not Graduate</td><td>No</td><td>2583</td></tr><tr><th>5</th><td>LP001008</td><td>Male</td><td>No</td><td>0</td><td>Graduate</td><td>No</td><td>6000</td></tr><tr><th>6</th><td>LP001011</td><td>Male</td><td>Yes</td><td>2</td><td>Graduate</td><td>Yes</td><td>5417</td></tr><tr><th>7</th><td>LP001013</td><td>Male</td><td>Yes</td><td>0</td><td>Not Graduate</td><td>No</td><td>2333</td></tr><tr><th>8</th><td>LP001014</td><td>Male</td><td>Yes</td><td>3+</td><td>Graduate</td><td>No</td><td>3036</td></tr><tr><th>9</th><td>LP001018</td><td>Male</td><td>Yes</td><td>2</td><td>Graduate</td><td>No</td><td>4006</td></tr><tr><th>10</th><td>LP001020</td><td>Male</td><td>Yes</td><td>1</td><td>Graduate</td><td>No</td><td>12841</td></tr></tbody></table>"
      ],
      "text/latex": [
       "\\begin{tabular}{r|cccccccc}\n",
       "\t& Loan\\_ID & Gender & Married & Dependents & Education & Self\\_Employed & ApplicantIncome & \\\\\n",
       "\t\\hline\n",
       "\t& String & String⍰ & String⍰ & String⍰ & String & String⍰ & Int64 & \\\\\n",
       "\t\\hline\n",
       "\t1 & LP001002 & Male & No & 0 & Graduate & No & 5849 & $\\dots$ \\\\\n",
       "\t2 & LP001003 & Male & Yes & 1 & Graduate & No & 4583 & $\\dots$ \\\\\n",
       "\t3 & LP001005 & Male & Yes & 0 & Graduate & Yes & 3000 & $\\dots$ \\\\\n",
       "\t4 & LP001006 & Male & Yes & 0 & Not Graduate & No & 2583 & $\\dots$ \\\\\n",
       "\t5 & LP001008 & Male & No & 0 & Graduate & No & 6000 & $\\dots$ \\\\\n",
       "\t6 & LP001011 & Male & Yes & 2 & Graduate & Yes & 5417 & $\\dots$ \\\\\n",
       "\t7 & LP001013 & Male & Yes & 0 & Not Graduate & No & 2333 & $\\dots$ \\\\\n",
       "\t8 & LP001014 & Male & Yes & 3+ & Graduate & No & 3036 & $\\dots$ \\\\\n",
       "\t9 & LP001018 & Male & Yes & 2 & Graduate & No & 4006 & $\\dots$ \\\\\n",
       "\t10 & LP001020 & Male & Yes & 1 & Graduate & No & 12841 & $\\dots$ \\\\\n",
       "\\end{tabular}\n"
      ],
      "text/plain": [
       "10×13 DataFrame. Omitted printing of 8 columns\n",
       "│ Row │ Loan_ID  │ Gender  │ Married │ Dependents │ Education    │\n",
       "│     │ \u001b[90mString\u001b[39m   │ \u001b[90mString⍰\u001b[39m │ \u001b[90mString⍰\u001b[39m │ \u001b[90mString⍰\u001b[39m    │ \u001b[90mString\u001b[39m       │\n",
       "├─────┼──────────┼─────────┼─────────┼────────────┼──────────────┤\n",
       "│ 1   │ LP001002 │ Male    │ No      │ 0          │ Graduate     │\n",
       "│ 2   │ LP001003 │ Male    │ Yes     │ 1          │ Graduate     │\n",
       "│ 3   │ LP001005 │ Male    │ Yes     │ 0          │ Graduate     │\n",
       "│ 4   │ LP001006 │ Male    │ Yes     │ 0          │ Not Graduate │\n",
       "│ 5   │ LP001008 │ Male    │ No      │ 0          │ Graduate     │\n",
       "│ 6   │ LP001011 │ Male    │ Yes     │ 2          │ Graduate     │\n",
       "│ 7   │ LP001013 │ Male    │ Yes     │ 0          │ Not Graduate │\n",
       "│ 8   │ LP001014 │ Male    │ Yes     │ 3+         │ Graduate     │\n",
       "│ 9   │ LP001018 │ Male    │ Yes     │ 2          │ Graduate     │\n",
       "│ 10  │ LP001020 │ Male    │ Yes     │ 1          │ Graduate     │"
      ]
     },
     "execution_count": 31,
     "metadata": {},
     "output_type": "execute_result"
    }
   ],
   "source": [
    "# first 10 rows\n",
    "first(train, 10)"
   ]
  },
  {
   "cell_type": "code",
   "execution_count": 32,
   "metadata": {},
   "outputs": [
    {
     "data": {
      "text/html": [
       "<table class=\"data-frame\"><thead><tr><th></th><th>variable</th><th>mean</th><th>min</th><th>median</th><th>max</th><th>nunique</th><th>nmissing</th></tr><tr><th></th><th>Symbol</th><th>Union…</th><th>Any</th><th>Union…</th><th>Any</th><th>Union…</th><th>Union…</th></tr></thead><tbody><p>13 rows × 8 columns (omitted printing of 1 columns)</p><tr><th>1</th><td>Loan_ID</td><td></td><td>LP001002</td><td></td><td>LP002990</td><td>614</td><td></td></tr><tr><th>2</th><td>Gender</td><td></td><td>Female</td><td></td><td>Male</td><td>2</td><td>13</td></tr><tr><th>3</th><td>Married</td><td></td><td>No</td><td></td><td>Yes</td><td>2</td><td>3</td></tr><tr><th>4</th><td>Dependents</td><td></td><td>0</td><td></td><td>3+</td><td>4</td><td>15</td></tr><tr><th>5</th><td>Education</td><td></td><td>Graduate</td><td></td><td>Not Graduate</td><td>2</td><td></td></tr><tr><th>6</th><td>Self_Employed</td><td></td><td>No</td><td></td><td>Yes</td><td>2</td><td>32</td></tr><tr><th>7</th><td>ApplicantIncome</td><td>5403.46</td><td>150</td><td>3812.5</td><td>81000</td><td></td><td></td></tr><tr><th>8</th><td>CoapplicantIncome</td><td>1621.25</td><td>0.0</td><td>1188.5</td><td>41667.0</td><td></td><td></td></tr><tr><th>9</th><td>LoanAmount</td><td>146.412</td><td>9</td><td>128.0</td><td>700</td><td></td><td>22</td></tr><tr><th>10</th><td>Loan_Amount_Term</td><td>342.0</td><td>12</td><td>360.0</td><td>480</td><td></td><td>14</td></tr><tr><th>11</th><td>Credit_History</td><td>0.842199</td><td>0</td><td>1.0</td><td>1</td><td></td><td>50</td></tr><tr><th>12</th><td>Property_Area</td><td></td><td>Rural</td><td></td><td>Urban</td><td>3</td><td></td></tr><tr><th>13</th><td>Loan_Status</td><td></td><td>N</td><td></td><td>Y</td><td>2</td><td></td></tr></tbody></table>"
      ],
      "text/latex": [
       "\\begin{tabular}{r|cccccccc}\n",
       "\t& variable & mean & min & median & max & nunique & nmissing & \\\\\n",
       "\t\\hline\n",
       "\t& Symbol & Union… & Any & Union… & Any & Union… & Union… & \\\\\n",
       "\t\\hline\n",
       "\t1 & Loan\\_ID &  & LP001002 &  & LP002990 & 614 &  & $\\dots$ \\\\\n",
       "\t2 & Gender &  & Female &  & Male & 2 & 13 & $\\dots$ \\\\\n",
       "\t3 & Married &  & No &  & Yes & 2 & 3 & $\\dots$ \\\\\n",
       "\t4 & Dependents &  & 0 &  & 3+ & 4 & 15 & $\\dots$ \\\\\n",
       "\t5 & Education &  & Graduate &  & Not Graduate & 2 &  & $\\dots$ \\\\\n",
       "\t6 & Self\\_Employed &  & No &  & Yes & 2 & 32 & $\\dots$ \\\\\n",
       "\t7 & ApplicantIncome & 5403.46 & 150 & 3812.5 & 81000 &  &  & $\\dots$ \\\\\n",
       "\t8 & CoapplicantIncome & 1621.25 & 0.0 & 1188.5 & 41667.0 &  &  & $\\dots$ \\\\\n",
       "\t9 & LoanAmount & 146.412 & 9 & 128.0 & 700 &  & 22 & $\\dots$ \\\\\n",
       "\t10 & Loan\\_Amount\\_Term & 342.0 & 12 & 360.0 & 480 &  & 14 & $\\dots$ \\\\\n",
       "\t11 & Credit\\_History & 0.842199 & 0 & 1.0 & 1 &  & 50 & $\\dots$ \\\\\n",
       "\t12 & Property\\_Area &  & Rural &  & Urban & 3 &  & $\\dots$ \\\\\n",
       "\t13 & Loan\\_Status &  & N &  & Y & 2 &  & $\\dots$ \\\\\n",
       "\\end{tabular}\n"
      ],
      "text/plain": [
       "13×8 DataFrame. Omitted printing of 3 columns\n",
       "│ Row │ variable          │ mean     │ min      │ median │ max          │\n",
       "│     │ \u001b[90mSymbol\u001b[39m            │ \u001b[90mUnion…\u001b[39m   │ \u001b[90mAny\u001b[39m      │ \u001b[90mUnion…\u001b[39m │ \u001b[90mAny\u001b[39m          │\n",
       "├─────┼───────────────────┼──────────┼──────────┼────────┼──────────────┤\n",
       "│ 1   │ Loan_ID           │          │ LP001002 │        │ LP002990     │\n",
       "│ 2   │ Gender            │          │ Female   │        │ Male         │\n",
       "│ 3   │ Married           │          │ No       │        │ Yes          │\n",
       "│ 4   │ Dependents        │          │ 0        │        │ 3+           │\n",
       "│ 5   │ Education         │          │ Graduate │        │ Not Graduate │\n",
       "│ 6   │ Self_Employed     │          │ No       │        │ Yes          │\n",
       "│ 7   │ ApplicantIncome   │ 5403.46  │ 150      │ 3812.5 │ 81000        │\n",
       "│ 8   │ CoapplicantIncome │ 1621.25  │ 0.0      │ 1188.5 │ 41667.0      │\n",
       "│ 9   │ LoanAmount        │ 146.412  │ 9        │ 128.0  │ 700          │\n",
       "│ 10  │ Loan_Amount_Term  │ 342.0    │ 12       │ 360.0  │ 480          │\n",
       "│ 11  │ Credit_History    │ 0.842199 │ 0        │ 1.0    │ 1            │\n",
       "│ 12  │ Property_Area     │          │ Rural    │        │ Urban        │\n",
       "│ 13  │ Loan_Status       │          │ N        │        │ Y            │"
      ]
     },
     "execution_count": 32,
     "metadata": {},
     "output_type": "execute_result"
    }
   ],
   "source": [
    "#train[!, :col]\n",
    "describe(train)"
   ]
  },
  {
   "cell_type": "code",
   "execution_count": 34,
   "metadata": {},
   "outputs": [
    {
     "data": {
      "text/html": [
       "<table class=\"data-frame\"><thead><tr><th></th><th>Loan_ID</th><th>Gender</th><th>Married</th><th>Dependents</th><th>Education</th><th>Self_Employed</th><th>ApplicantIncome</th></tr><tr><th></th><th>String</th><th>String⍰</th><th>String⍰</th><th>String⍰</th><th>String</th><th>String⍰</th><th>Int64</th></tr></thead><tbody><p>10 rows × 13 columns (omitted printing of 6 columns)</p><tr><th>1</th><td>LP002959</td><td>Female</td><td>Yes</td><td>1</td><td>Graduate</td><td>No</td><td>12000</td></tr><tr><th>2</th><td>LP002960</td><td>Male</td><td>Yes</td><td>0</td><td>Not Graduate</td><td>No</td><td>2400</td></tr><tr><th>3</th><td>LP002961</td><td>Male</td><td>Yes</td><td>1</td><td>Graduate</td><td>No</td><td>3400</td></tr><tr><th>4</th><td>LP002964</td><td>Male</td><td>Yes</td><td>2</td><td>Not Graduate</td><td>No</td><td>3987</td></tr><tr><th>5</th><td>LP002974</td><td>Male</td><td>Yes</td><td>0</td><td>Graduate</td><td>No</td><td>3232</td></tr><tr><th>6</th><td>LP002978</td><td>Female</td><td>No</td><td>0</td><td>Graduate</td><td>No</td><td>2900</td></tr><tr><th>7</th><td>LP002979</td><td>Male</td><td>Yes</td><td>3+</td><td>Graduate</td><td>No</td><td>4106</td></tr><tr><th>8</th><td>LP002983</td><td>Male</td><td>Yes</td><td>1</td><td>Graduate</td><td>No</td><td>8072</td></tr><tr><th>9</th><td>LP002984</td><td>Male</td><td>Yes</td><td>2</td><td>Graduate</td><td>No</td><td>7583</td></tr><tr><th>10</th><td>LP002990</td><td>Female</td><td>No</td><td>0</td><td>Graduate</td><td>Yes</td><td>4583</td></tr></tbody></table>"
      ],
      "text/latex": [
       "\\begin{tabular}{r|cccccccc}\n",
       "\t& Loan\\_ID & Gender & Married & Dependents & Education & Self\\_Employed & ApplicantIncome & \\\\\n",
       "\t\\hline\n",
       "\t& String & String⍰ & String⍰ & String⍰ & String & String⍰ & Int64 & \\\\\n",
       "\t\\hline\n",
       "\t1 & LP002959 & Female & Yes & 1 & Graduate & No & 12000 & $\\dots$ \\\\\n",
       "\t2 & LP002960 & Male & Yes & 0 & Not Graduate & No & 2400 & $\\dots$ \\\\\n",
       "\t3 & LP002961 & Male & Yes & 1 & Graduate & No & 3400 & $\\dots$ \\\\\n",
       "\t4 & LP002964 & Male & Yes & 2 & Not Graduate & No & 3987 & $\\dots$ \\\\\n",
       "\t5 & LP002974 & Male & Yes & 0 & Graduate & No & 3232 & $\\dots$ \\\\\n",
       "\t6 & LP002978 & Female & No & 0 & Graduate & No & 2900 & $\\dots$ \\\\\n",
       "\t7 & LP002979 & Male & Yes & 3+ & Graduate & No & 4106 & $\\dots$ \\\\\n",
       "\t8 & LP002983 & Male & Yes & 1 & Graduate & No & 8072 & $\\dots$ \\\\\n",
       "\t9 & LP002984 & Male & Yes & 2 & Graduate & No & 7583 & $\\dots$ \\\\\n",
       "\t10 & LP002990 & Female & No & 0 & Graduate & Yes & 4583 & $\\dots$ \\\\\n",
       "\\end{tabular}\n"
      ],
      "text/plain": [
       "10×13 DataFrame. Omitted printing of 8 columns\n",
       "│ Row │ Loan_ID  │ Gender  │ Married │ Dependents │ Education    │\n",
       "│     │ \u001b[90mString\u001b[39m   │ \u001b[90mString⍰\u001b[39m │ \u001b[90mString⍰\u001b[39m │ \u001b[90mString⍰\u001b[39m    │ \u001b[90mString\u001b[39m       │\n",
       "├─────┼──────────┼─────────┼─────────┼────────────┼──────────────┤\n",
       "│ 1   │ LP002959 │ Female  │ Yes     │ 1          │ Graduate     │\n",
       "│ 2   │ LP002960 │ Male    │ Yes     │ 0          │ Not Graduate │\n",
       "│ 3   │ LP002961 │ Male    │ Yes     │ 1          │ Graduate     │\n",
       "│ 4   │ LP002964 │ Male    │ Yes     │ 2          │ Not Graduate │\n",
       "│ 5   │ LP002974 │ Male    │ Yes     │ 0          │ Graduate     │\n",
       "│ 6   │ LP002978 │ Female  │ No      │ 0          │ Graduate     │\n",
       "│ 7   │ LP002979 │ Male    │ Yes     │ 3+         │ Graduate     │\n",
       "│ 8   │ LP002983 │ Male    │ Yes     │ 1          │ Graduate     │\n",
       "│ 9   │ LP002984 │ Male    │ Yes     │ 2          │ Graduate     │\n",
       "│ 10  │ LP002990 │ Female  │ No      │ 0          │ Graduate     │"
      ]
     },
     "execution_count": 34,
     "metadata": {},
     "output_type": "execute_result"
    }
   ],
   "source": [
    "last(train, 10)"
   ]
  },
  {
   "cell_type": "code",
   "execution_count": 35,
   "metadata": {},
   "outputs": [
    {
     "data": {
      "text/html": [
       "<table class=\"data-frame\"><thead><tr><th></th><th>LoanAmount</th></tr><tr><th></th><th>Int64⍰</th></tr></thead><tbody><p>614 rows × 1 columns</p><tr><th>1</th><td>missing</td></tr><tr><th>2</th><td>128</td></tr><tr><th>3</th><td>66</td></tr><tr><th>4</th><td>120</td></tr><tr><th>5</th><td>141</td></tr><tr><th>6</th><td>267</td></tr><tr><th>7</th><td>95</td></tr><tr><th>8</th><td>158</td></tr><tr><th>9</th><td>168</td></tr><tr><th>10</th><td>349</td></tr><tr><th>11</th><td>70</td></tr><tr><th>12</th><td>109</td></tr><tr><th>13</th><td>200</td></tr><tr><th>14</th><td>114</td></tr><tr><th>15</th><td>17</td></tr><tr><th>16</th><td>125</td></tr><tr><th>17</th><td>100</td></tr><tr><th>18</th><td>76</td></tr><tr><th>19</th><td>133</td></tr><tr><th>20</th><td>115</td></tr><tr><th>21</th><td>104</td></tr><tr><th>22</th><td>315</td></tr><tr><th>23</th><td>116</td></tr><tr><th>24</th><td>112</td></tr><tr><th>25</th><td>151</td></tr><tr><th>26</th><td>191</td></tr><tr><th>27</th><td>122</td></tr><tr><th>28</th><td>110</td></tr><tr><th>29</th><td>35</td></tr><tr><th>30</th><td>120</td></tr><tr><th>&vellip;</th><td>&vellip;</td></tr></tbody></table>"
      ],
      "text/latex": [
       "\\begin{tabular}{r|c}\n",
       "\t& LoanAmount\\\\\n",
       "\t\\hline\n",
       "\t& Int64⍰\\\\\n",
       "\t\\hline\n",
       "\t1 &  \\\\\n",
       "\t2 & 128 \\\\\n",
       "\t3 & 66 \\\\\n",
       "\t4 & 120 \\\\\n",
       "\t5 & 141 \\\\\n",
       "\t6 & 267 \\\\\n",
       "\t7 & 95 \\\\\n",
       "\t8 & 158 \\\\\n",
       "\t9 & 168 \\\\\n",
       "\t10 & 349 \\\\\n",
       "\t11 & 70 \\\\\n",
       "\t12 & 109 \\\\\n",
       "\t13 & 200 \\\\\n",
       "\t14 & 114 \\\\\n",
       "\t15 & 17 \\\\\n",
       "\t16 & 125 \\\\\n",
       "\t17 & 100 \\\\\n",
       "\t18 & 76 \\\\\n",
       "\t19 & 133 \\\\\n",
       "\t20 & 115 \\\\\n",
       "\t21 & 104 \\\\\n",
       "\t22 & 315 \\\\\n",
       "\t23 & 116 \\\\\n",
       "\t24 & 112 \\\\\n",
       "\t25 & 151 \\\\\n",
       "\t26 & 191 \\\\\n",
       "\t27 & 122 \\\\\n",
       "\t28 & 110 \\\\\n",
       "\t29 & 35 \\\\\n",
       "\t30 & 120 \\\\\n",
       "\t$\\dots$ & $\\dots$ \\\\\n",
       "\\end{tabular}\n"
      ],
      "text/plain": [
       "614×1 DataFrame\n",
       "│ Row │ LoanAmount │\n",
       "│     │ \u001b[90mInt64⍰\u001b[39m     │\n",
       "├─────┼────────────┤\n",
       "│ 1   │ \u001b[90mmissing\u001b[39m    │\n",
       "│ 2   │ 128        │\n",
       "│ 3   │ 66         │\n",
       "│ 4   │ 120        │\n",
       "│ 5   │ 141        │\n",
       "│ 6   │ 267        │\n",
       "│ 7   │ 95         │\n",
       "│ 8   │ 158        │\n",
       "│ 9   │ 168        │\n",
       "│ 10  │ 349        │\n",
       "⋮\n",
       "│ 604 │ 172        │\n",
       "│ 605 │ 496        │\n",
       "│ 606 │ \u001b[90mmissing\u001b[39m    │\n",
       "│ 607 │ 173        │\n",
       "│ 608 │ 157        │\n",
       "│ 609 │ 108        │\n",
       "│ 610 │ 71         │\n",
       "│ 611 │ 40         │\n",
       "│ 612 │ 253        │\n",
       "│ 613 │ 187        │\n",
       "│ 614 │ 133        │"
      ]
     },
     "execution_count": 35,
     "metadata": {},
     "output_type": "execute_result"
    }
   ],
   "source": [
    "# gives back a dataframe\n",
    "train[!, [:LoanAmount]]"
   ]
  },
  {
   "cell_type": "code",
   "execution_count": 36,
   "metadata": {},
   "outputs": [
    {
     "data": {
      "text/plain": [
       "614-element CSV.Column{Union{Missing, Int64},Union{Missing, Int64}}:\n",
       "    missing\n",
       " 128       \n",
       "  66       \n",
       " 120       \n",
       " 141       \n",
       " 267       \n",
       "  95       \n",
       " 158       \n",
       " 168       \n",
       " 349       \n",
       "  70       \n",
       " 109       \n",
       " 200       \n",
       "   ⋮       \n",
       " 128       \n",
       " 172       \n",
       " 496       \n",
       "    missing\n",
       " 173       \n",
       " 157       \n",
       " 108       \n",
       "  71       \n",
       "  40       \n",
       " 253       \n",
       " 187       \n",
       " 133       "
      ]
     },
     "execution_count": 36,
     "metadata": {},
     "output_type": "execute_result"
    }
   ],
   "source": [
    "# gives back a vector\n",
    "train[!, :LoanAmount]"
   ]
  },
  {
   "cell_type": "code",
   "execution_count": 100,
   "metadata": {},
   "outputs": [
    {
     "name": "stdout",
     "output_type": "stream",
     "text": [
      "Summary Stats:\n",
      "Length:         614\n",
      "Missing Count:  22\n",
      "Mean:           146.412162\n",
      "Minimum:        9.000000\n",
      "1st Quartile:   100.000000\n",
      "Median:         128.000000\n",
      "3rd Quartile:   168.000000\n",
      "Maximum:        700.000000\n",
      "Type:           Union{Missing, Int64}\n"
     ]
    }
   ],
   "source": [
    "describe(train[!, :LoanAmount])"
   ]
  },
  {
   "cell_type": "code",
   "execution_count": 38,
   "metadata": {},
   "outputs": [
    {
     "data": {
      "text/html": [
       "<table class=\"data-frame\"><thead><tr><th></th><th>Property_Area</th></tr><tr><th></th><th>String</th></tr></thead><tbody><p>614 rows × 1 columns</p><tr><th>1</th><td>Urban</td></tr><tr><th>2</th><td>Rural</td></tr><tr><th>3</th><td>Urban</td></tr><tr><th>4</th><td>Urban</td></tr><tr><th>5</th><td>Urban</td></tr><tr><th>6</th><td>Urban</td></tr><tr><th>7</th><td>Urban</td></tr><tr><th>8</th><td>Semiurban</td></tr><tr><th>9</th><td>Urban</td></tr><tr><th>10</th><td>Semiurban</td></tr><tr><th>11</th><td>Urban</td></tr><tr><th>12</th><td>Urban</td></tr><tr><th>13</th><td>Urban</td></tr><tr><th>14</th><td>Rural</td></tr><tr><th>15</th><td>Urban</td></tr><tr><th>16</th><td>Urban</td></tr><tr><th>17</th><td>Urban</td></tr><tr><th>18</th><td>Urban</td></tr><tr><th>19</th><td>Rural</td></tr><tr><th>20</th><td>Urban</td></tr><tr><th>21</th><td>Urban</td></tr><tr><th>22</th><td>Urban</td></tr><tr><th>23</th><td>Semiurban</td></tr><tr><th>24</th><td>Rural</td></tr><tr><th>25</th><td>Semiurban</td></tr><tr><th>26</th><td>Semiurban</td></tr><tr><th>27</th><td>Semiurban</td></tr><tr><th>28</th><td>Urban</td></tr><tr><th>29</th><td>Urban</td></tr><tr><th>30</th><td>Semiurban</td></tr><tr><th>&vellip;</th><td>&vellip;</td></tr></tbody></table>"
      ],
      "text/latex": [
       "\\begin{tabular}{r|c}\n",
       "\t& Property\\_Area\\\\\n",
       "\t\\hline\n",
       "\t& String\\\\\n",
       "\t\\hline\n",
       "\t1 & Urban \\\\\n",
       "\t2 & Rural \\\\\n",
       "\t3 & Urban \\\\\n",
       "\t4 & Urban \\\\\n",
       "\t5 & Urban \\\\\n",
       "\t6 & Urban \\\\\n",
       "\t7 & Urban \\\\\n",
       "\t8 & Semiurban \\\\\n",
       "\t9 & Urban \\\\\n",
       "\t10 & Semiurban \\\\\n",
       "\t11 & Urban \\\\\n",
       "\t12 & Urban \\\\\n",
       "\t13 & Urban \\\\\n",
       "\t14 & Rural \\\\\n",
       "\t15 & Urban \\\\\n",
       "\t16 & Urban \\\\\n",
       "\t17 & Urban \\\\\n",
       "\t18 & Urban \\\\\n",
       "\t19 & Rural \\\\\n",
       "\t20 & Urban \\\\\n",
       "\t21 & Urban \\\\\n",
       "\t22 & Urban \\\\\n",
       "\t23 & Semiurban \\\\\n",
       "\t24 & Rural \\\\\n",
       "\t25 & Semiurban \\\\\n",
       "\t26 & Semiurban \\\\\n",
       "\t27 & Semiurban \\\\\n",
       "\t28 & Urban \\\\\n",
       "\t29 & Urban \\\\\n",
       "\t30 & Semiurban \\\\\n",
       "\t$\\dots$ & $\\dots$ \\\\\n",
       "\\end{tabular}\n"
      ],
      "text/plain": [
       "614×1 DataFrame\n",
       "│ Row │ Property_Area │\n",
       "│     │ \u001b[90mString\u001b[39m        │\n",
       "├─────┼───────────────┤\n",
       "│ 1   │ Urban         │\n",
       "│ 2   │ Rural         │\n",
       "│ 3   │ Urban         │\n",
       "│ 4   │ Urban         │\n",
       "│ 5   │ Urban         │\n",
       "│ 6   │ Urban         │\n",
       "│ 7   │ Urban         │\n",
       "│ 8   │ Semiurban     │\n",
       "│ 9   │ Urban         │\n",
       "│ 10  │ Semiurban     │\n",
       "⋮\n",
       "│ 604 │ Rural         │\n",
       "│ 605 │ Semiurban     │\n",
       "│ 606 │ Urban         │\n",
       "│ 607 │ Semiurban     │\n",
       "│ 608 │ Rural         │\n",
       "│ 609 │ Rural         │\n",
       "│ 610 │ Rural         │\n",
       "│ 611 │ Rural         │\n",
       "│ 612 │ Urban         │\n",
       "│ 613 │ Urban         │\n",
       "│ 614 │ Semiurban     │"
      ]
     },
     "execution_count": 38,
     "metadata": {},
     "output_type": "execute_result"
    }
   ],
   "source": [
    "train[!, [:Property_Area]]"
   ]
  },
  {
   "cell_type": "code",
   "execution_count": 39,
   "metadata": {},
   "outputs": [
    {
     "name": "stdout",
     "output_type": "stream",
     "text": [
      "\u001b[32m\u001b[1m Resolving\u001b[22m\u001b[39m package versions...\n",
      "\u001b[32m\u001b[1m  Updating\u001b[22m\u001b[39m `~/.julia/environments/v1.2/Project.toml`\n",
      "\u001b[90m [no changes]\u001b[39m\n",
      "\u001b[32m\u001b[1m  Updating\u001b[22m\u001b[39m `~/.julia/environments/v1.2/Manifest.toml`\n",
      "\u001b[90m [no changes]\u001b[39m\n"
     ]
    }
   ],
   "source": [
    "# need to import another package\n",
    "# this is apparently identical to an R package\n",
    "Pkg.add(\"StatsBase\")\n",
    "using StatsBase"
   ]
  },
  {
   "cell_type": "code",
   "execution_count": 40,
   "metadata": {},
   "outputs": [
    {
     "data": {
      "text/plain": [
       "Dict{String,Int64} with 3 entries:\n",
       "  \"Urban\"     => 202\n",
       "  \"Rural\"     => 179\n",
       "  \"Semiurban\" => 233"
      ]
     },
     "execution_count": 40,
     "metadata": {},
     "output_type": "execute_result"
    }
   ],
   "source": [
    "# This needs a vector\n",
    "countmap(train[!, :Property_Area])"
   ]
  },
  {
   "cell_type": "markdown",
   "metadata": {},
   "source": [
    "### Visualizing data"
   ]
  },
  {
   "cell_type": "code",
   "execution_count": 1,
   "metadata": {},
   "outputs": [
    {
     "ename": "UndefVarError",
     "evalue": "UndefVarError: Pkg not defined",
     "output_type": "error",
     "traceback": [
      "UndefVarError: Pkg not defined",
      "",
      "Stacktrace:",
      " [1] top-level scope at In[1]:1"
     ]
    }
   ],
   "source": [
    "Pkg.add(\"PyPlot\") # OooOoOOo python envy"
   ]
  },
  {
   "cell_type": "code",
   "execution_count": 42,
   "metadata": {},
   "outputs": [],
   "source": [
    "using PyPlot"
   ]
  },
  {
   "cell_type": "code",
   "execution_count": 43,
   "metadata": {},
   "outputs": [
    {
     "data": {
      "image/png": "[encoded data removed]",
      "text/plain": [
       "Figure(PyObject <Figure size 640x480 with 1 Axes>)"
      ]
     },
     "metadata": {},
     "output_type": "display_data"
    },
    {
     "data": {
      "text/plain": [
       "1-element Array{PyCall.PyObject,1}:\n",
       " PyObject <matplotlib.lines.Line2D object at 0x148d6f290>"
      ]
     },
     "execution_count": 43,
     "metadata": {},
     "output_type": "execute_result"
    }
   ],
   "source": [
    "x = range(0, stop=2*pi, length = 100)\n",
    "y = sin.(x)\n",
    "plot(x, y, color=\"red\", linewidth=2.0, linestyle=\"--\")"
   ]
  },
  {
   "cell_type": "code",
   "execution_count": 44,
   "metadata": {},
   "outputs": [
    {
     "data": {
      "text/html": [
       "<table class=\"data-frame\"><thead><tr><th></th><th>variable</th><th>mean</th><th>min</th><th>median</th><th>max</th><th>nunique</th><th>nmissing</th><th>eltype</th></tr><tr><th></th><th>Symbol</th><th>Float64</th><th>Int64</th><th>Float64</th><th>Int64</th><th>Nothing</th><th>Nothing</th><th>DataType</th></tr></thead><tbody><p>1 rows × 8 columns</p><tr><th>1</th><td>ApplicantIncome</td><td>5403.46</td><td>150</td><td>3812.5</td><td>81000</td><td></td><td></td><td>Int64</td></tr></tbody></table>"
      ],
      "text/latex": [
       "\\begin{tabular}{r|cccccccc}\n",
       "\t& variable & mean & min & median & max & nunique & nmissing & eltype\\\\\n",
       "\t\\hline\n",
       "\t& Symbol & Float64 & Int64 & Float64 & Int64 & Nothing & Nothing & DataType\\\\\n",
       "\t\\hline\n",
       "\t1 & ApplicantIncome & 5403.46 & 150 & 3812.5 & 81000 &  &  & Int64 \\\\\n",
       "\\end{tabular}\n"
      ],
      "text/plain": [
       "1×8 DataFrame. Omitted printing of 2 columns\n",
       "│ Row │ variable        │ mean    │ min   │ median  │ max   │ nunique │\n",
       "│     │ \u001b[90mSymbol\u001b[39m          │ \u001b[90mFloat64\u001b[39m │ \u001b[90mInt64\u001b[39m │ \u001b[90mFloat64\u001b[39m │ \u001b[90mInt64\u001b[39m │ \u001b[90mNothing\u001b[39m │\n",
       "├─────┼─────────────────┼─────────┼───────┼─────────┼───────┼─────────┤\n",
       "│ 1   │ ApplicantIncome │ 5403.46 │ 150   │ 3812.5  │ 81000 │         │"
      ]
     },
     "execution_count": 44,
     "metadata": {},
     "output_type": "execute_result"
    }
   ],
   "source": [
    "describe(train[!, [:ApplicantIncome]])"
   ]
  },
  {
   "cell_type": "code",
   "execution_count": 108,
   "metadata": {},
   "outputs": [
    {
     "data": {
      "image/png": "[encoded data removed]",
      "text/plain": [
       "Figure(PyObject <Figure size 640x480 with 1 Axes>)"
      ]
     },
     "metadata": {},
     "output_type": "display_data"
    },
    {
     "data": {
      "text/plain": [
       "PyObject Text(24.000000000000007, 0.5, 'Number of applicatns')"
      ]
     },
     "execution_count": 108,
     "metadata": {},
     "output_type": "execute_result"
    }
   ],
   "source": [
    "# Needs to be a vector yo\n",
    "income = train[!, :ApplicantIncome]\n",
    "hist(income, bins=50)\n",
    "title(\"Applicant income frequency\")\n",
    "xlabel(\"Applicant income in dollars\")\n",
    "ylabel(\"Number of applicatns\")"
   ]
  },
  {
   "cell_type": "code",
   "execution_count": 109,
   "metadata": {},
   "outputs": [
    {
     "data": {
      "image/png": "[encoded data removed]",
      "text/plain": [
       "Figure(PyObject <Figure size 640x480 with 1 Axes>)"
      ]
     },
     "metadata": {},
     "output_type": "display_data"
    },
    {
     "data": {
      "text/plain": [
       "PyObject Text(24.0, 0.5, 'Applicant Income')"
      ]
     },
     "execution_count": 109,
     "metadata": {},
     "output_type": "execute_result"
    }
   ],
   "source": [
    "boxplot(income)\n",
    "ylabel(\"Applicant Income\")"
   ]
  },
  {
   "cell_type": "markdown",
   "metadata": {},
   "source": [
    "The previous two graphs show that we've got some outliers - a lot of outliers - in applicant incomes. This makes sense, because income inequality exists.\n",
    "\n",
    "So, why doe? Maybe education..."
   ]
  },
  {
   "cell_type": "code",
   "execution_count": 110,
   "metadata": {},
   "outputs": [
    {
     "data": {
      "text/html": [
       "<table class=\"data-frame\"><thead><tr><th></th><th>variable</th><th>mean</th><th>min</th><th>median</th><th>max</th><th>nunique</th><th>nmissing</th><th>eltype</th></tr><tr><th></th><th>Symbol</th><th>Nothing</th><th>String</th><th>Nothing</th><th>String</th><th>Int64</th><th>Nothing</th><th>DataType</th></tr></thead><tbody><p>1 rows × 8 columns</p><tr><th>1</th><td>Education</td><td></td><td>Graduate</td><td></td><td>Not Graduate</td><td>2</td><td></td><td>String</td></tr></tbody></table>"
      ],
      "text/latex": [
       "\\begin{tabular}{r|cccccccc}\n",
       "\t& variable & mean & min & median & max & nunique & nmissing & eltype\\\\\n",
       "\t\\hline\n",
       "\t& Symbol & Nothing & String & Nothing & String & Int64 & Nothing & DataType\\\\\n",
       "\t\\hline\n",
       "\t1 & Education &  & Graduate &  & Not Graduate & 2 &  & String \\\\\n",
       "\\end{tabular}\n"
      ],
      "text/plain": [
       "1×8 DataFrame. Omitted printing of 2 columns\n",
       "│ Row │ variable  │ mean    │ min      │ median  │ max          │ nunique │\n",
       "│     │ \u001b[90mSymbol\u001b[39m    │ \u001b[90mNothing\u001b[39m │ \u001b[90mString\u001b[39m   │ \u001b[90mNothing\u001b[39m │ \u001b[90mString\u001b[39m       │ \u001b[90mInt64\u001b[39m   │\n",
       "├─────┼───────────┼─────────┼──────────┼─────────┼──────────────┼─────────┤\n",
       "│ 1   │ Education │         │ Graduate │         │ Not Graduate │ 2       │"
      ]
     },
     "execution_count": 110,
     "metadata": {},
     "output_type": "execute_result"
    }
   ],
   "source": [
    "describe(train[!, [:Education]])"
   ]
  },
  {
   "cell_type": "code",
   "execution_count": 111,
   "metadata": {},
   "outputs": [
    {
     "data": {
      "text/plain": [
       "Dict{String,Int64} with 2 entries:\n",
       "  \"Graduate\"     => 480\n",
       "  \"Not Graduate\" => 134"
      ]
     },
     "execution_count": 111,
     "metadata": {},
     "output_type": "execute_result"
    }
   ],
   "source": [
    "countmap(train[!, :Education])"
   ]
  },
  {
   "cell_type": "markdown",
   "metadata": {},
   "source": [
    "Okay, so we have a lot more people who graduated than people who did not."
   ]
  },
  {
   "cell_type": "code",
   "execution_count": 116,
   "metadata": {},
   "outputs": [
    {
     "data": {
      "image/png": "[encoded data removed]",
      "text/plain": [
       "Figure(PyObject <Figure size 640x480 with 1 Axes>)"
      ]
     },
     "metadata": {},
     "output_type": "display_data"
    },
    {
     "data": {
      "text/plain": [
       "Dict{Any,Any} with 6 entries:\n",
       "  \"means\"    => Any[]\n",
       "  \"whiskers\" => PyCall.PyObject[PyObject <matplotlib.lines.Line2D object at 0x1…\n",
       "  \"fliers\"   => PyCall.PyObject[PyObject <matplotlib.lines.Line2D object at 0x1…\n",
       "  \"boxes\"    => PyCall.PyObject[PyObject <matplotlib.lines.Line2D object at 0x1…\n",
       "  \"caps\"     => PyCall.PyObject[PyObject <matplotlib.lines.Line2D object at 0x1…\n",
       "  \"medians\"  => PyCall.PyObject[PyObject <matplotlib.lines.Line2D object at 0x1…"
      ]
     },
     "execution_count": 116,
     "metadata": {},
     "output_type": "execute_result"
    }
   ],
   "source": [
    "mapping(s) = lowercase(s) == \"graduate\" ? 1 : 0\n",
    "\n",
    "education = map(mapping, train[!, :Education])\n",
    "boxplot(education)"
   ]
  },
  {
   "cell_type": "code",
   "execution_count": null,
   "metadata": {},
   "outputs": [],
   "source": []
  }
 ],
 "metadata": {
  "kernelspec": {
   "display_name": "Julia 1.2.0",
   "language": "julia",
   "name": "julia-1.2"
  },
  "language_info": {
   "file_extension": ".jl",
   "mimetype": "application/julia",
   "name": "julia",
   "version": "1.2.0"
  }
 },
 "nbformat": 4,
 "nbformat_minor": 4
}
